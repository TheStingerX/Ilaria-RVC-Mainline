{
 "cells": [
  {
   "cell_type": "code",
   "execution_count": 2,
   "id": "3ea741ff-b121-4aad-b5f0-e631772c0fc1",
   "metadata": {
    "execution": {
     "iopub.execute_input": "2024-06-06T17:15:09.173454Z",
     "iopub.status.busy": "2024-06-06T17:15:09.173036Z",
     "iopub.status.idle": "2024-06-06T17:15:09.178548Z",
     "shell.execute_reply": "2024-06-06T17:15:09.177527Z",
     "shell.execute_reply.started": "2024-06-06T17:15:09.173417Z"
    }
   },
   "outputs": [],
   "source": [
    "#**DO NOT PRESS RUN ALL!** THIS IS A QUICK AND DIRTY FIX, IT CAN BE DONE BETTER BUT STILL WORKS"
   ]
  },
  {
   "cell_type": "code",
   "execution_count": 3,
   "id": "2ff8fc9c-5a79-4db8-b28c-953e922bdea9",
   "metadata": {
    "execution": {
     "iopub.execute_input": "2024-06-06T17:15:10.966610Z",
     "iopub.status.busy": "2024-06-06T17:15:10.966201Z",
     "iopub.status.idle": "2024-06-06T17:15:10.971836Z",
     "shell.execute_reply": "2024-06-06T17:15:10.970650Z",
     "shell.execute_reply.started": "2024-06-06T17:15:10.966579Z"
    }
   },
   "outputs": [],
   "source": [
    "#PAPERSPACE RUNS PYTHON 3.11 - THIS INSTALL PYTHON 3.10 WITH MINICONDA"
   ]
  },
  {
   "cell_type": "code",
   "execution_count": 4,
   "id": "fe32661f-4a77-4a7f-a82c-42eeee6947e0",
   "metadata": {
    "execution": {
     "iopub.execute_input": "2024-06-06T17:15:13.688405Z",
     "iopub.status.busy": "2024-06-06T17:15:13.687888Z",
     "iopub.status.idle": "2024-06-06T17:15:32.666241Z",
     "shell.execute_reply": "2024-06-06T17:15:32.664796Z",
     "shell.execute_reply.started": "2024-06-06T17:15:13.688360Z"
    },
    "tags": []
   },
   "outputs": [],
   "source": [
    "%%bash\n",
    "cd /notebooks/\n",
    "wget -q https://repo.anaconda.com/miniconda/Miniconda3-py310_24.4.0-0-Linux-x86_64.sh\n",
    "chmod +x Miniconda3-py310_24.4.0-0-Linux-x86_64.sh\n",
    "./Miniconda3-py310_24.4.0-0-Linux-x86_64.sh -b -f -p /usr/local\n",
    "rm Miniconda3-py310_24.4.0-0-Linux-x86_64.sh\n",
    "python --version"
   ]
  },
  {
   "cell_type": "code",
   "execution_count": 5,
   "id": "09c6fdc7-a1e8-4e3c-bb69-cd934d3242ec",
   "metadata": {
    "execution": {
     "iopub.execute_input": "2024-06-06T17:15:38.858043Z",
     "iopub.status.busy": "2024-06-06T17:15:38.857718Z",
     "iopub.status.idle": "2024-06-06T17:15:38.862969Z",
     "shell.execute_reply": "2024-06-06T17:15:38.861779Z",
     "shell.execute_reply.started": "2024-06-06T17:15:38.858043Z"
    },
    "tags": []
   },
   "outputs": [],
   "source": [
    "#CLONE THE REPO AND INSTALL REQUIREMENTS (MIGHT TAKE A WHILE)"
   ]
  },
  {
   "cell_type": "code",
   "execution_count": 7,
   "id": "6fc39817-2011-4820-b22b-77357d9514ad",
   "metadata": {
    "execution": {
     "iopub.execute_input": "2024-06-06T17:17:47.233194Z",
     "iopub.status.busy": "2024-06-06T17:17:47.232975Z",
     "iopub.status.idle": "2024-06-06T17:22:41.698652Z",
     "shell.execute_reply": "2024-06-06T17:22:41.697619Z",
     "shell.execute_reply.started": "2024-06-06T17:17:47.233153Z"
    },
    "tags": []
   },
   "outputs": [
    {
     "name": "stdout",
     "output_type": "stream",
     "text": [
      "Finished Installing\n"
     ]
    }
   ],
   "source": [
    "%cd /notebooks\n",
    "!git clone https://github.com/TheStingerX/Ilaria-RVC-Mainline\n",
    "!pip install aria2\n",
    "from IPython.display import clear_output, Javascript\n",
    "import urllib.request\n",
    "%cd /notebooks/Ilaria-RVC-Mainline\n",
    "!aria2c --console-log-level=error -c -x 16 -s 16 -k 1M https://huggingface.co/lj1995/VoiceConversionWebUI/resolve/main/pretrained_v2/D32k.pth -d /notebooks/Ilaria-RVC-Mainline/assets/pretrained_v2 -o D32k.pth\n",
    "!aria2c --console-log-level=error -c -x 16 -s 16 -k 1M https://huggingface.co/lj1995/VoiceConversionWebUI/resolve/main/pretrained_v2/D40k.pth -d /notebooks/Ilaria-RVC-Mainline/assets/pretrained_v2 -o D40k.pth\n",
    "!aria2c --console-log-level=error -c -x 16 -s 16 -k 1M https://huggingface.co/lj1995/VoiceConversionWebUI/resolve/main/pretrained_v2/D48k.pth -d /notebooks/Ilaria-RVC-Mainline/assets/pretrained_v2 -o D48k.pth\n",
    "!aria2c --console-log-level=error -c -x 16 -s 16 -k 1M https://huggingface.co/lj1995/VoiceConversionWebUI/resolve/main/pretrained_v2/G32k.pth -d /notebooks/Ilaria-RVC-Mainline/assets/pretrained_v2 -o G32k.pth\n",
    "!aria2c --console-log-level=error -c -x 16 -s 16 -k 1M https://huggingface.co/lj1995/VoiceConversionWebUI/resolve/main/pretrained_v2/G40k.pth -d /notebooks/Ilaria-RVC-Mainline/assets/pretrained_v2 -o G40k.pth\n",
    "!aria2c --console-log-level=error -c -x 16 -s 16 -k 1M https://huggingface.co/lj1995/VoiceConversionWebUI/resolve/main/pretrained_v2/G48k.pth -d /notebooks/Ilaria-RVC-Mainline/assets/pretrained_v2 -o G48k.pth\n",
    "!aria2c --console-log-level=error -c -x 16 -s 16 -k 1M https://huggingface.co/lj1995/VoiceConversionWebUI/resolve/main/pretrained_v2/f0D32k.pth -d /notebooks/Ilaria-RVC-Mainline/assets/pretrained_v2 -o f0D32k.pth\n",
    "!aria2c --console-log-level=error -c -x 16 -s 16 -k 1M https://huggingface.co/lj1995/VoiceConversionWebUI/resolve/main/pretrained_v2/f0D40k.pth -d /notebooks/Ilaria-RVC-Mainline/assets/pretrained_v2 -o f0D40k.pth\n",
    "!aria2c --console-log-level=error -c -x 16 -s 16 -k 1M https://huggingface.co/lj1995/VoiceConversionWebUI/resolve/main/pretrained_v2/f0D48k.pth -d /notebooks/Ilaria-RVC-Mainline/assets/pretrained_v2 -o f0D48k.pth\n",
    "!aria2c --console-log-level=error -c -x 16 -s 16 -k 1M https://huggingface.co/lj1995/VoiceConversionWebUI/resolve/main/pretrained_v2/f0G32k.pth -d /notebooks/Ilaria-RVC-Mainline/assets/pretrained_v2 -o f0G32k.pth\n",
    "!aria2c --console-log-level=error -c -x 16 -s 16 -k 1M https://huggingface.co/lj1995/VoiceConversionWebUI/resolve/main/pretrained_v2/f0G40k.pth -d /notebooks/Ilaria-RVC-Mainline/assets/pretrained_v2 -o f0G40k.pth\n",
    "!aria2c --console-log-level=error -c -x 16 -s 16 -k 1M https://huggingface.co/lj1995/VoiceConversionWebUI/resolve/main/pretrained_v2/f0G48k.pth -d /notebooks/Ilaria-RVC-Mainline/assets/pretrained_v2 -o f0G48k.pth\n",
    "!aria2c --console-log-level=error -c -x 16 -s 16 -k 1M https://huggingface.co/lj1995/VoiceConversionWebUI/resolve/main/hubert_base.pt -d /notebooks/Ilaria-RVC-Mainline/assets/hubert -o hubert_base.pt\n",
    "!aria2c --console-log-level=error -c -x 16 -s 16 -k 1M https://raw.githubusercontent.com/poiqazwsx/Ilaria-RVC-Mainline/main/assets/hubert/hubert_inputs.pth -d /notebooks/Ilaria-RVC-Mainline/assets/hubert -o hubert_inputs.pth\n",
    "!aria2c --console-log-level=error -c -x 16 -s 16 -k 1M https://huggingface.co/lj1995/VoiceConversionWebUI/resolve/main/rmvpe.pt -d /notebooks/Ilaria-RVC-Mainline/assets/rmvpe -o rmvpe.pt\n",
    "!aria2c --console-log-level=error -c -x 16 -s 16 -k 1M https://github.com/poiqazwsx/Ilaria-RVC-Mainline/blob/main/assets/rmvpe/rmvpe_inputs.pth -d /notebooks/Ilaria-RVC-Mainline/assets/rmvpe -o rmvpe.pth\n",
    "urllib.request.urlretrieve(\"https://raw.githubusercontent.com/poiqazwsx/Ilaria-RVC-Mainline/main/infer/lib/audio.py\", \"/notebooks/Ilaria-RVC-Mainline/infer/lib/audio.py\")\n",
    "print(\"File replaced successfully.\")\n",
    "%mkdir /notebooks/Ilaria-RVC-Mainline/assets/weights\n",
    "%mkdir /notebooks/Ilaria-RVC-Mainline/dataset\n",
    "%mkdir /notebooks/Ilaria-RVC-Mainline/audios\n",
    "!pip install -r requirements-paperspace.txt\n",
    "clear_output()\n",
    "print(\"Finished Installing\")"
   ]
  },
  {
   "cell_type": "code",
   "execution_count": null,
   "id": "4da0961e-0679-468c-b0f3-57abce00b6a1",
   "metadata": {},
   "outputs": [],
   "source": [
    "#!!!!!!!!READ ME!!!!!!!!! RUN THESE COMMANDS IN A **TERMINAL** (and not as a cell) TO RUN ILARIA RVC MAINLINE"
   ]
  },
  {
   "cell_type": "code",
   "execution_count": null,
   "id": "56b6610f-298c-4304-9e40-d6831e950da8",
   "metadata": {
    "tags": []
   },
   "outputs": [],
   "source": [
    "export LD_LIBRARY_PATH=/usr/local/lib/python3.10/site-packages/nvidia/nvjitlink/lib:$LD_LIBRARY_PATH\n",
    "\n",
    "cd /notebooks/Ilaria-RVC-Mainline\n",
    "\n",
    "python infer-web.py --colab"
   ]
  }
 ],
 "metadata": {
  "kernelspec": {
   "display_name": "Python 3 (ipykernel)",
   "language": "python",
   "name": "python3"
  },
  "language_info": {
   "codemirror_mode": {
    "name": "ipython",
    "version": 3
   },
   "file_extension": ".py",
   "mimetype": "text/x-python",
   "name": "python",
   "nbconvert_exporter": "python",
   "pygments_lexer": "ipython3",
   "version": "3.11.7"
  }
 },
 "nbformat": 4,
 "nbformat_minor": 5
}
